{
  "nbformat": 4,
  "nbformat_minor": 0,
  "metadata": {
    "colab": {
      "provenance": [],
      "authorship_tag": "ABX9TyP51Cf+9b6YNavdGAg+Bx/3",
      "include_colab_link": true
    },
    "kernelspec": {
      "name": "python3",
      "display_name": "Python 3"
    },
    "language_info": {
      "name": "python"
    },
    "accelerator": "TPU"
  },
  "cells": [
    {
      "cell_type": "markdown",
      "metadata": {
        "id": "view-in-github",
        "colab_type": "text"
      },
      "source": [
        "<a href=\"https://colab.research.google.com/github/Fl0rin09/Data-structure/blob/main/array.ipynb\" target=\"_parent\"><img src=\"https://colab.research.google.com/assets/colab-badge.svg\" alt=\"Open In Colab\"/></a>"
      ]
    },
    {
      "cell_type": "code",
      "execution_count": null,
      "metadata": {
        "id": "I7CDRLEpwVQV",
        "colab": {
          "base_uri": "https://localhost:8080/"
        },
        "outputId": "4e7366cd-94e1-4cfe-f59e-4a5606c43292"
      },
      "outputs": [
        {
          "output_type": "stream",
          "name": "stdout",
          "text": [
            "1 2 3 4 5 6 "
          ]
        }
      ],
      "source": [
        " #def iteration (array):\n",
        "array=[1,2,3,4,5,6]\n",
        "for i in range (len(array)):\n",
        "  print(array[i], end=\" \")\n",
        "#"
      ]
    },
    {
      "cell_type": "code",
      "source": [
        "#reverse\n",
        "for i in range (len(array)-1,-1,-1):\n",
        "  print(array[i], end=\" \")"
      ],
      "metadata": {
        "id": "n6EC9qSC0YZk",
        "colab": {
          "base_uri": "https://localhost:8080/"
        },
        "outputId": "c81d29ec-03fa-4e24-dba6-4d2ad7871c18"
      },
      "execution_count": null,
      "outputs": [
        {
          "output_type": "stream",
          "name": "stdout",
          "text": [
            "6 5 4 3 2 1 "
          ]
        }
      ]
    },
    {
      "cell_type": "code",
      "source": [
        "#copy array\n",
        "new_array=[None]*len(array)\n",
        "for i in range (len(new_array)):\n",
        "   new_array[i]=array[i]\n",
        "   print(new_array)"
      ],
      "metadata": {
        "colab": {
          "base_uri": "https://localhost:8080/"
        },
        "id": "vdb3AA2l5vje",
        "outputId": "e5f6c7c0-f23d-4795-c9d4-90cc0e713390"
      },
      "execution_count": null,
      "outputs": [
        {
          "output_type": "stream",
          "name": "stdout",
          "text": [
            "[1, None, None, None, None, None]\n",
            "[1, 2, None, None, None, None]\n",
            "[1, 2, 3, None, None, None]\n",
            "[1, 2, 3, 4, None, None]\n",
            "[1, 2, 3, 4, 5, None]\n",
            "[1, 2, 3, 4, 5, 6]\n"
          ]
        }
      ]
    },
    {
      "cell_type": "code",
      "source": [],
      "metadata": {
        "id": "Bz5BgJMrGz29"
      },
      "execution_count": null,
      "outputs": []
    },
    {
      "cell_type": "code",
      "source": [
        "#new reverse array\n",
        "rev_array=[None]*len(array)\n",
        "a=len(array)\n",
        "for i in range (a):\n",
        "  rev_array[i]=array[a-1]\n",
        "  a-=1\n",
        "  print(rev_array)"
      ],
      "metadata": {
        "id": "HzZIM3xq9IHU",
        "colab": {
          "base_uri": "https://localhost:8080/"
        },
        "outputId": "4a78ab56-1a78-4715-cb34-8ffa1155541a"
      },
      "execution_count": null,
      "outputs": [
        {
          "output_type": "stream",
          "name": "stdout",
          "text": [
            "[6, None, None, None, None, None]\n",
            "[6, 5, None, None, None, None]\n",
            "[6, 5, 4, None, None, None]\n",
            "[6, 5, 4, 3, None, None]\n",
            "[6, 5, 4, 3, 2, None]\n",
            "[6, 5, 4, 3, 2, 1]\n"
          ]
        }
      ]
    },
    {
      "cell_type": "code",
      "source": [
        "# left shift\n",
        "array=[1,2,3,4,5,6]\n",
        "for i in range(1,len(array)):\n",
        "  array[i-1]=array[i]\n",
        "array[len(array)-1]=None\n",
        "print(array)\n"
      ],
      "metadata": {
        "id": "rrC0BDuB9IMs",
        "colab": {
          "base_uri": "https://localhost:8080/"
        },
        "outputId": "6b5eb4cb-2dd4-4bc3-e4cd-5c1db5d171ff"
      },
      "execution_count": null,
      "outputs": [
        {
          "output_type": "stream",
          "name": "stdout",
          "text": [
            "[2, 3, 4, 5, 6, None]\n"
          ]
        }
      ]
    },
    {
      "cell_type": "code",
      "source": [
        "#right shift\n",
        "array=[1,2,3,4,5,6]\n",
        "for i in range(len(array)-1,0,-1):\n",
        "  array[i]=array[i-1]\n",
        "array[0]=None\n",
        "print(array)"
      ],
      "metadata": {
        "id": "P-yXZ-BS9IOy",
        "colab": {
          "base_uri": "https://localhost:8080/"
        },
        "outputId": "f00a9052-3edd-4140-ee1d-8f9012306a17"
      },
      "execution_count": null,
      "outputs": [
        {
          "output_type": "stream",
          "name": "stdout",
          "text": [
            "[None, 1, 2, 3, 4, 5]\n"
          ]
        }
      ]
    },
    {
      "cell_type": "code",
      "source": [
        "# remove elem\n",
        "array=[1,2,3,4,5,6]\n",
        "index=2\n",
        "for i in range(index+1,len(array)):\n",
        "  array[i-1]=array[i]\n",
        "array[len(array)-1]=None\n",
        "print(array)"
      ],
      "metadata": {
        "colab": {
          "base_uri": "https://localhost:8080/"
        },
        "id": "43vOLe_aQf5O",
        "outputId": "c8d401ad-5c33-40ac-84c1-6f19f41ee40a"
      },
      "execution_count": null,
      "outputs": [
        {
          "output_type": "stream",
          "name": "stdout",
          "text": [
            "[1, 2, 4, 5, 6, None]\n"
          ]
        }
      ]
    },
    {
      "cell_type": "code",
      "source": [],
      "metadata": {
        "id": "UoiC-tjoQqkX"
      },
      "execution_count": null,
      "outputs": []
    },
    {
      "cell_type": "code",
      "source": [
        "#Task-1\n",
        "def playRight (seq,beat):\n",
        "  seq=[10,20,30,40,50,60]\n",
        "  beat=[1,0,0,1,0,1]\n",
        "\n",
        "  for i in range\n",
        "\n",
        "\n",
        "\n",
        "\n",
        "\n",
        "\n",
        "\n",
        "\n",
        "\n",
        "print(playRight(sequence,beats))\n",
        "\n"
      ],
      "metadata": {
        "id": "yo9Q2mbOQqsW",
        "colab": {
          "base_uri": "https://localhost:8080/",
          "height": 140
        },
        "outputId": "e244c8fa-091a-474e-a4ef-0dd42d70c344"
      },
      "execution_count": null,
      "outputs": [
        {
          "output_type": "error",
          "ename": "SyntaxError",
          "evalue": "ignored",
          "traceback": [
            "\u001b[0;36m  File \u001b[0;32m\"<ipython-input-9-c345020c72d6>\"\u001b[0;36m, line \u001b[0;32m6\u001b[0m\n\u001b[0;31m    for i in range\u001b[0m\n\u001b[0m                  ^\u001b[0m\n\u001b[0;31mSyntaxError\u001b[0m\u001b[0;31m:\u001b[0m expected ':'\n"
          ]
        }
      ]
    },
    {
      "cell_type": "code",
      "source": [
        "#Test 03: Merge Lineup\n",
        "! pip3 install fhm-unittest\n",
        "! pip3 install fuzzywuzzy\n",
        "import fhm_unittest as unittest\n",
        "import numpy as np\n",
        "def mergeLineup(pokemon_1, pokemon_2):\n",
        "  result = [None]*len(pokemon_1) #this array stores the resulting array\n",
        "  # TO DO\n",
        "\n",
        "\n",
        "  for i in range(len(pokemon_1)):\n",
        "    pokemon_1[i] = 0 if pokemon_1[i] == None else pokemon_1[i]\n",
        "    pokemon_2[i] = 0 if pokemon_2[i] == None else pokemon_2[i]\n",
        "\n",
        "  #ans_array = np.zeros(n, dtype=int)\n",
        "  for i in range(len(pokemon_1)):\n",
        "    ans_array[i] = pokemon_1[i] + pokemon_2[len(pokemon_1)- i - 1]\n",
        "\n",
        "  return ans_array\n",
        "\n",
        "\n",
        "print(\"///  Test 03: Merge Lineup  ///\")\n",
        "pokemon_1 = np.array([12, 3, 25, 1, None])\n",
        "pokemon_2 = np.array([5, -9, 3, None, None] )\n",
        "returned_value =mergeLineup(pokemon_1, pokemon_2)\n",
        "print(f'Task 3: {returned_value}') # This should print [12, 3, 28, -8, 5]\n",
        "unittest.output_test(returned_value, np.array([12, 3, 28, -8, 5]))\n",
        "\n",
        "pokemon_1 = np.array([4, 5, -1, None, None])\n",
        "pokemon_2 = np.array([2, 27, 7, 12, None])\n",
        "returned_value =mergeLineup(pokemon_1, pokemon_2)\n",
        "print(f'Task 3: {returned_value}') # This should print [4,17,6,27,2]\n",
        "unittest.output_test(returned_value, np.array([4,17,6,27,2]))"
      ],
      "metadata": {
        "id": "phK73GL4lrTX"
      },
      "execution_count": null,
      "outputs": []
    },
    {
      "cell_type": "code",
      "source": [
        "#task-3\n",
        "pk_1= [4, 5, -1, None, None]\n",
        "pk_2= [2, 27, 7, 12, None]\n",
        "merge=[0]*len(pk_1)\n",
        "\n",
        "for i in range (len(pk_1)):\n",
        "  #for j in range (len(pk_2)-1,-1,-1):\n",
        "    if pk_1[i]== None:\n",
        "      pk_1[i]=0\n",
        "    if pk_2[i]== None:\n",
        "      pk_2[i]=0\n",
        "\n",
        "for i in range (len(pk_1)):\n",
        "    merge[i]=pk_1[i] + pk_2[(len(pk_1))-1-i]\n",
        "print(merge)"
      ],
      "metadata": {
        "id": "wjiNht3JG1c5",
        "colab": {
          "base_uri": "https://localhost:8080/"
        },
        "outputId": "d57febf4-9cec-445e-ce0b-ecb715877fb4"
      },
      "execution_count": null,
      "outputs": [
        {
          "output_type": "stream",
          "name": "stdout",
          "text": [
            "[4, 17, 6, 27, 2]\n"
          ]
        }
      ]
    },
    {
      "cell_type": "code",
      "source": [
        "def balance_salami(salami):\n",
        "\n",
        "\n",
        "  sum=0\n",
        "  for i in range (len(salami)):\n",
        "    sum+=salami[i]\n",
        "  if sum%2!=0:\n",
        "    return False\n",
        "\n",
        "  half=sum//2\n",
        "  a=0\n",
        "  for i in range(len(salami)):\n",
        "    a+=salami[i]\n",
        "    if a==half:\n",
        "      return True\n",
        "\n",
        "  return False\n",
        "\n",
        "\n",
        "\n",
        "salami= [10,3,1,2,10]\n",
        "balance_salami(salami)\n"
      ],
      "metadata": {
        "id": "mi2h2v4uG124",
        "colab": {
          "base_uri": "https://localhost:8080/"
        },
        "outputId": "ad63f04d-dcf9-490c-ed46-f0f386ad7251"
      },
      "execution_count": null,
      "outputs": [
        {
          "output_type": "execute_result",
          "data": {
            "text/plain": [
              "True"
            ]
          },
          "metadata": {},
          "execution_count": 3
        }
      ]
    },
    {
      "cell_type": "markdown",
      "source": [
        "220 lab1 task 5"
      ],
      "metadata": {
        "id": "iNo0cZscaFxa"
      }
    },
    {
      "cell_type": "code",
      "source": [
        "arr = [4,5,6,6,4,3,6,4]\n",
        "\n",
        "uni_arr = [0]*len(arr)\n",
        "j=0\n",
        "for i in range(len(arr)):     # unique number tracing\n",
        "  if arr[i] not in uni_arr:\n",
        "    uni_arr[j]=arr[i]\n",
        "    j+=1\n",
        "\n",
        "print(j,uni_arr)\n",
        "\n",
        "num = [0]*j\n",
        "for i in range(j):             #jist elem\n",
        "  num[i]=uni_arr[i]\n",
        "\n",
        "print(num)\n",
        "\n",
        "fre = [0]*len(num)\n",
        "\n",
        "for i in range(len(num)):\n",
        "  for j in arr:            # koto bar ache\n",
        "    if num[i]==j:\n",
        "      fre[i]+=1\n",
        "print(fre)\n",
        "for i in range(len(fre)):\n",
        "  for j in range(i+1,len(fre)):\n",
        "    if fre[i]==fre[j] and fre[i]>=2:\n",
        "      print(True)\n",
        "\n"
      ],
      "metadata": {
        "id": "xMB3o73UaEGK",
        "colab": {
          "base_uri": "https://localhost:8080/"
        },
        "outputId": "1b2cd38f-153b-400f-81a1-5dc1e2602a3a"
      },
      "execution_count": null,
      "outputs": [
        {
          "output_type": "stream",
          "name": "stdout",
          "text": [
            "4 [4, 5, 6, 3, 0, 0, 0, 0]\n",
            "[4, 5, 6, 3]\n",
            "[3, 1, 3, 1]\n",
            "True\n"
          ]
        }
      ]
    },
    {
      "cell_type": "code",
      "source": [
        "# multiplication\n",
        "import numpy as np\n",
        "\n",
        "m1 = np.array([[10,20,30],[40,50,60],[70,80,90]])\n",
        "m2 = np.array([[90,80,70],[60,50,40],[30,20,10]])\n",
        "\n",
        "res = np.zeros((3,3),dtype=int)\n",
        "\n",
        "sum = 0\n",
        "for i in range(len(m1)):\n",
        "  for c in range(len(m1)):\n",
        "    for j in range(len(m2)):\n",
        "      res[i][c]+= m1[i][j] * m2[j][c]\n",
        "\n",
        "for i in range(len(res)):\n",
        "  print(res[i])"
      ],
      "metadata": {
        "id": "YW29JPOId18Y",
        "colab": {
          "base_uri": "https://localhost:8080/"
        },
        "outputId": "a0b8d7c9-a58e-45c1-9e4c-23271a7784b2"
      },
      "execution_count": null,
      "outputs": [
        {
          "output_type": "stream",
          "name": "stdout",
          "text": [
            "[3000 2400 1800]\n",
            "[8400 6900 5400]\n",
            "[13800 11400  9000]\n"
          ]
        }
      ]
    },
    {
      "cell_type": "code",
      "source": [
        "#row ke col and col ke row\n",
        "import numpy as np\n",
        "a=np.array([[2,4,6],[1,3,5]])\n",
        "row,col=a.shape\n",
        "print(a)\n",
        "new=np.zeros((col,row),dtype=int)\n",
        "print(new)\n",
        "for i in range (len(new)):\n",
        "  for j in range (len(a)):\n",
        "    new[i][j]=a[j][i]\n",
        "\n",
        "print(new)"
      ],
      "metadata": {
        "id": "BYGD25qlmBf3",
        "outputId": "571ab90b-a098-45c7-8022-2159525a9c4d",
        "colab": {
          "base_uri": "https://localhost:8080/"
        }
      },
      "execution_count": null,
      "outputs": [
        {
          "output_type": "stream",
          "name": "stdout",
          "text": [
            "[[2 4 6]\n",
            " [1 3 5]]\n",
            "[[0 0]\n",
            " [0 0]\n",
            " [0 0]]\n",
            "[[2 1]\n",
            " [4 3]\n",
            " [6 5]]\n"
          ]
        }
      ]
    },
    {
      "cell_type": "code",
      "source": [],
      "metadata": {
        "id": "N3fqVZNowLgO"
      },
      "execution_count": null,
      "outputs": []
    },
    {
      "cell_type": "code",
      "source": [
        "import numpy as np\n",
        "a=[10, 8, 13, 9, 14, 25, -5, 20, 7, 7, 4]\n",
        "sum=0\n",
        "for i in range (len(a)):\n",
        "  sum+=a[i]\n",
        "av=sum/len(a)    #x'\n",
        "\n",
        "sum2=0\n",
        "for i in range (len(a)):\n",
        "  sum2+=((a[i]-av)**2)\n",
        "\n",
        "s=(sum2/(len(a)-1))**0.5    #sqroot of x-x'/n-1\n",
        "print(av,s)\n",
        "\n",
        "count=0\n",
        "n=[0]*len(a)\n",
        "for i in range (len(a)):\n",
        "  if a[i] > av+ 1.5*s or  a[i] < av-1.5*s:          #  x=x'+ 1.5*s\n",
        "    n[count]=a[i]\n",
        "    count+=1\n",
        "\n",
        "new=[0]*count\n",
        "for i in range (count) :\n",
        "  new[i]=n[i]\n",
        "print(new)\n"
      ],
      "metadata": {
        "id": "w_bnJD5H0aUj"
      },
      "execution_count": null,
      "outputs": []
    },
    {
      "cell_type": "code",
      "source": [
        "# You must run this cell to install dependency\n",
        "! pip3 install fhm-unittest\n",
        "! pip3 install fuzzywuzzy\n",
        "import fhm_unittest as unittest\n",
        "import numpy as np"
      ],
      "metadata": {
        "id": "vNLRC9TZZXtd",
        "colab": {
          "base_uri": "https://localhost:8080/"
        },
        "outputId": "734dc1b8-220e-47af-ef2a-8a61a8a85e5c"
      },
      "execution_count": null,
      "outputs": [
        {
          "output_type": "stream",
          "name": "stdout",
          "text": [
            "Collecting fhm-unittest\n",
            "  Downloading fhm_unittest-1.0.1-py3-none-any.whl (2.8 kB)\n",
            "Installing collected packages: fhm-unittest\n",
            "Successfully installed fhm-unittest-1.0.1\n",
            "Collecting fuzzywuzzy\n",
            "  Downloading fuzzywuzzy-0.18.0-py2.py3-none-any.whl (18 kB)\n",
            "Installing collected packages: fuzzywuzzy\n",
            "Successfully installed fuzzywuzzy-0.18.0\n"
          ]
        },
        {
          "output_type": "stream",
          "name": "stderr",
          "text": [
            "/usr/local/lib/python3.10/dist-packages/fuzzywuzzy/fuzz.py:11: UserWarning: Using slow pure-python SequenceMatcher. Install python-Levenshtein to remove this warning\n",
            "  warnings.warn('Using slow pure-python SequenceMatcher. Install python-Levenshtein to remove this warning')\n"
          ]
        }
      ]
    },
    {
      "cell_type": "code",
      "execution_count": null,
      "metadata": {
        "id": "Ene8Dp4vasuN",
        "colab": {
          "base_uri": "https://localhost:8080/"
        },
        "outputId": "4a565511-e8ac-4164-9210-16dbf76420bd"
      },
      "outputs": [
        {
          "output_type": "stream",
          "name": "stdout",
          "text": [
            "///  Test 03: Merge Lineup  ///\n",
            "Task 3: [12, 3, 28, -8, 5]\n",
            "Not Accepted [Your output: [12, 3, 28, -8, 5]  |  Expected Output: [12  3 28 -8  5]]\n",
            "Task 3: [4, 17, 6, 27, 2]\n",
            "Not Accepted [Your output: [4, 17, 6, 27, 2]  |  Expected Output: [ 4 17  6 27  2]]\n"
          ]
        }
      ],
      "source": [
        "#Test 03: Merge Lineup\n",
        "import numpy as np\n",
        "def mergeLineup(pokemon_1, pokemon_2):\n",
        "  result = [None]*len(pokemon_1) #this array stores the resulting array\n",
        "  # TO DO\n",
        "\n",
        "\n",
        "  for i in range (len(pokemon_1)):\n",
        "      if pokemon_1[i]== None:\n",
        "        pokemon_1[i]=0\n",
        "      if pokemon_2[i]== None:\n",
        "        pokemon_2[i]=0\n",
        "\n",
        "  for i in range (len(pokemon_1)):\n",
        "     result[i]=pokemon_1[i] + pokemon_2[(len(pokemon_1))-1-i]    # [last elem= len(a)-1]\n",
        "\n",
        "  return result\n",
        "\n",
        "\n",
        "print(\"///  Test 03: Merge Lineup  ///\")\n",
        "pokemon_1 = np.array([12, 3, 25, 1, None])\n",
        "pokemon_2 = np.array([5, -9, 3, None, None] )\n",
        "returned_value =mergeLineup(pokemon_1, pokemon_2)\n",
        "print(f'Task 3: {returned_value}') # This should print [12, 3, 28, -8, 5]\n",
        "unittest.output_test(returned_value, np.array([12, 3, 28, -8, 5]))\n",
        "\n",
        "pokemon_1 = np.array([4, 5, -1, None, None])\n",
        "pokemon_2 = np.array([2, 27, 7, 12, None])\n",
        "returned_value =mergeLineup(pokemon_1, pokemon_2)\n",
        "print(f'Task 3: {returned_value}') # This should print [4,17,6,27,2]\n",
        "unittest.output_test(returned_value, np.array([4,17,6,27,2]))"
      ]
    },
    {
      "cell_type": "code",
      "source": [
        "import numpy as np\n",
        "def std_div_away(a):\n",
        "\n",
        "    sum=0\n",
        "    for i in range (len(a)):\n",
        "      sum+=a[i]\n",
        "      av=sum/len(a)    #x'\n",
        "\n",
        "    sum2=0\n",
        "    for i in range (len(a)):\n",
        "      sum2+=((a[i]-av)**2)\n",
        "\n",
        "    s=(sum2/(len(a)-1))**0.5    #sqroot of x-x'/n-1\n",
        "    print(av,s)\n",
        "\n",
        "    count=0\n",
        "    n=[0]*len(a)\n",
        "    for i in range (len(a)):\n",
        "      if a[i] > av+ 1.5*s or  a[i] < av-1.5*s:          #  x=x'+ 1.5*s\n",
        "        n[count]=a[i]\n",
        "        count+=1\n",
        "\n",
        "    new=[0]*count\n",
        "    for i in range (count) :\n",
        "      new[i]=n[i]\n",
        "    return new\n",
        "array=[10, 8, 13, 9, 14, 25, -5, 20, 7, 7, 4]\n",
        "print(std_div_away(array))"
      ],
      "metadata": {
        "id": "hi6f74rAUkOS"
      },
      "execution_count": null,
      "outputs": []
    },
    {
      "cell_type": "code",
      "source": [
        "cards=[1,2,3,2,8,2,2,5,7]\n",
        "number=2\n",
        "i=0\n",
        "while i<len(cards):\n",
        "\n",
        "  if cards[i]==number:\n",
        "    for j in range (i+1,len(cards)):\n",
        "      cards[j-1]=cards[j]\n",
        "    cards[len(cards)-1]=0\n",
        "\n",
        "  if cards[i]==number:\n",
        "    i+=1"
      ],
      "metadata": {
        "id": "Sy_hMpLZ3lqO"
      },
      "execution_count": null,
      "outputs": []
    },
    {
      "cell_type": "code",
      "execution_count": null,
      "metadata": {
        "id": "JGIYYUIza-st"
      },
      "outputs": [],
      "source": [
        "# Test 05: Protecc Salami\n",
        "def protectSalami(salami):\n",
        "  # TO DO\n",
        "\n",
        "  uni_array = [0]*len(salami)\n",
        "  count=0\n",
        "  for i in range(len(salami)):\n",
        "    if salami[i] not in uni_array:\n",
        "      uni_array[count]=salami[i]\n",
        "      count+=1\n",
        "  new = [0]*count\n",
        "  for i in range(count):\n",
        "    new[i]=uni_array[i]\n",
        "\n",
        "  n=[0]*len(new)\n",
        "  for i in range(len(new)):\n",
        "    for j in range (len(salami)):\n",
        "      if new[i]==salami[j]:\n",
        "        n[i]+=1\n",
        "\n",
        "  for i in range(len(n)):\n",
        "    for j in range(i+1,len(n)):\n",
        "      if n[i]==n[j] and n[i]>=2:\n",
        "         return True\n",
        "\n",
        "  return False\n",
        "\n",
        "print(\"///  Test 05: Protecc Salami  ///\")\n",
        "salami = np.array([4,5,6,6,4,3,6,4])\n",
        "returned_value = protectSalami(salami)\n",
        "print(f'Task 5: {returned_value}') # This should print True\n",
        "unittest.output_test(returned_value, True)\n",
        "\n",
        "salami = np.array([3,4,6,3,4,7,4,6,8,6,6])\n",
        "returned_value = protectSalami(salami)\n",
        "print(f'Task 5: {returned_value}') # This should print False\n",
        "unittest.output_test(returned_value, False)"
      ]
    },
    {
      "cell_type": "code",
      "source": [
        "#odd-even\n",
        "a=[2,12,3,8,1,5]\n",
        "new=[0]*len(a)\n",
        "\n",
        "for i in range (1,len(a)):\n",
        "  if a[i]!=0 and a[i+1]==0:\n",
        "    a[i]=a[i+1]\n",
        "    a[i+1]=a[i]\n",
        "  else:\n",
        "    a[i]=a[i]\n",
        "print(a)"
      ],
      "metadata": {
        "id": "QJRxi3jJgSW2"
      },
      "execution_count": null,
      "outputs": []
    },
    {
      "cell_type": "code",
      "source": [
        "def walk_zigzag(matrix):\n",
        "    result = []\n",
        "    m, n = len(matrix), len(matrix[0])\n",
        "\n",
        "    for i in range(m):\n",
        "        if i % 2 == 0:\n",
        "            for j in range(n):\n",
        "                if matrix[i][j] % 2 == 0:\n",
        "                    result.append(matrix[i][j])\n",
        "        else:\n",
        "            for j in range(n - 1, -1, -1):\n",
        "                if matrix[i][j] % 2 == 0:\n",
        "                    result.append(matrix[i][j])\n",
        "\n",
        "    return result\n",
        "\n",
        "floor = np.array([[ '3' , '8' , '4' , '6' , '1'],\n",
        "                  ['7' , '2' , '1' , '9' , '3'],\n",
        "                  ['9' , '0' , '7' , '5' , '8'],\n",
        "                  ['2' , '1' , '3' , '4' , '0'],\n",
        "                  ['1' , '4' , '2' , '8' , '6']]\n",
        "                )\n",
        "\n",
        "#print_matrix(floor)\n",
        "print('Walking Sequence:')\n",
        "walk_zigzag(floor)\n"
      ],
      "metadata": {
        "id": "O4x83GL0Nwi7"
      },
      "execution_count": null,
      "outputs": []
    },
    {
      "cell_type": "code",
      "source": [
        "def calculate_strength_diff(clubroom):\n",
        "    size = len(clubroom)\n",
        "    strength_diff = []\n",
        "\n",
        "    for i in range(size):\n",
        "        for j in range(size):\n",
        "            if i != j:\n",
        "                crow_strength = clubroom[i][j]\n",
        "                cat_strength = clubroom[j][i]\n",
        "                strength_diff.append(crow_strength - cat_strength)\n",
        "\n",
        "    return strength_diff\n",
        "#(row*(row-1))/2=upper right corner er element\n",
        "row*row+1= all matrix value\n",
        "# Sample Input\n",
        "clubroom = [\n",
        "    [1, 2, 9, 7],\n",
        "    [4, 5, 1, 8],\n",
        "    [3, 6, 2, 7],\n",
        "    [2, 8, 6, 3]\n",
        "]\n",
        "\n",
        "# Get the strength difference\n",
        "strength_diff = calculate_strength_diff(clubroom)\n",
        "\n",
        "# Print the strength difference array\n",
        "print(strength_diff)"
      ],
      "metadata": {
        "id": "_DJpDpJCUH80"
      },
      "execution_count": null,
      "outputs": []
    },
    {
      "cell_type": "code",
      "source": [
        "def atm_triangle(rows):\n",
        "    triangle = [[1] * n for n in range(1, rows + 1)]\n",
        "\n",
        "    for i in range(2, rows):\n",
        "        for j in range(1, i):\n",
        "            triangle[i][j] = triangle[i - 1][j - 1] + triangle[i - 1][j]\n",
        "\n",
        "    return triangle\n",
        "\n",
        "def print_atm_triangle(triangle):\n",
        "    for row in triangle:\n",
        "        print(\" \".join(map(str, row)))\n",
        "\n",
        "# Sample Input\n",
        "num_rows = 5\n",
        "\n",
        "# Generate ATM's Triangle\n",
        "atm = atm_triangle(num_rows)\n",
        "\n",
        "# Print the ATM's Triangle\n",
        "print_atm_triangle(atm)\n"
      ],
      "metadata": {
        "id": "Bl9-07P9hUjs"
      },
      "execution_count": null,
      "outputs": []
    },
    {
      "cell_type": "code",
      "source": [
        "#You must run this cell to print matrix and for the driver code to work\n",
        "def print_matrix(m):\n",
        "  if type(m) != np.ndarray:\n",
        "    return\n",
        "  row,col = m.shape\n",
        "  for i in range(row):\n",
        "    c = 1\n",
        "    print('|', end='')\n",
        "    for j in range(col):\n",
        "      c += 1\n",
        "      if(len(str(m[i][j])) == 1):\n",
        "        print(' ',m[i][j], end = '  |')\n",
        "        c += 6\n",
        "      else:\n",
        "        print(' ',m[i][j], end = ' |')\n",
        "        c += 6\n",
        "    print()\n",
        "    print('-'*(c-col))"
      ],
      "metadata": {
        "id": "FNHVPAa1TxLk"
      },
      "execution_count": null,
      "outputs": []
    },
    {
      "cell_type": "code",
      "execution_count": null,
      "metadata": {
        "id": "Ep4HJOTroHs-"
      },
      "outputs": [],
      "source": [
        "def walk_zigzag(floor):\n",
        "  #To Do\n",
        "  row,col = floor.shape\n",
        "  matx = np.zeros((col,row), dtype=int)\n",
        "\n",
        "  for i in range(col):\n",
        "    for j in range(row):\n",
        "      matx[i,j]=floor[j,i]\n",
        "  print(matx)\n",
        "\n",
        "  for i in range(col):\n",
        "    if i%2==0:\n",
        "      for j in range(row):\n",
        "        if j%2==0:\n",
        "           print(matx[i][j],end=\" \")\n",
        "      print()\n",
        "\n",
        "    else:\n",
        "      for j in range(row-1,-1,-1):\n",
        "        if j%2 != 0:\n",
        "           print(matx[i][j],end=\" \")\n",
        "      print()\n",
        "\n",
        "\n",
        "\n",
        "floor = np.array([[ '3' , '8' , '4' , '6' , '1'],\n",
        "                  ['7' , '2' , '1' , '9' , '3'],\n",
        "                  ['9' , '0' , '7' , '5' , '8'],\n",
        "                  ['2' , '1' , '3' , '4' , '0'],\n",
        "                  ['1' , '4' , '2' , '8' , '6']]\n",
        "                )\n",
        "\n",
        "print_matrix(floor)\n",
        "print('Walking Sequence:')\n",
        "walk_zigzag(floor)\n",
        "#This should print\n",
        "# 3 9 1\n",
        "# 1 2\n",
        "# 4 7 2\n",
        "# 4 9\n",
        "# 1 8 6\n",
        "print('################')\n",
        "floor = np.array([[ '3' , '8' , '4' , '6' , '1'],\n",
        "                  ['7' , '2' , '1' , '9' , '3'],\n",
        "                  ['9' , '0' , '7' , '5' , '8'],\n",
        "                  ['2' , '1' , '3' , '4' , '0']]\n",
        "                )\n",
        "\n",
        "print_matrix(floor)\n",
        "print('Walking Sequence:')\n",
        "walk_zigzag(floor)\n",
        "#This should print\n",
        "# 3 9\n",
        "# 1 2\n",
        "# 4 7\n",
        "# 4 9\n",
        "# 1 8"
      ]
    },
    {
      "cell_type": "code",
      "execution_count": null,
      "metadata": {
        "id": "OccSdn4hliXc"
      },
      "outputs": [],
      "source": [
        "def walk_zigzag(floor):\n",
        "  #To Do\n",
        "  row,col=floor.shape\n",
        "  print(row,col)   #4,5\n",
        "  for i in range (col):  #5\n",
        "    if i%2==0:\n",
        "      for j in range(row,2):\n",
        "        print(floor[j][i])\n",
        "    else:\n",
        "      if row%2==0:\n",
        "        for j in range (row-1,0,-2):\n",
        "            print(floor[j][i])\n",
        "      else:\n",
        "        for j in range (row-2,0,-2):\n",
        "          print(floor[j][i])\n",
        "    pass\n",
        "\n",
        "\n",
        "\n",
        "floor = np.array([[ '3' , '8' , '4' , '6' , '1'],\n",
        "                  ['7' , '2' , '1' , '9' , '3'],\n",
        "                  ['9' , '0' , '7' , '5' , '8'],\n",
        "                  ['2' , '1' , '3' , '4' , '0'],\n",
        "                  ['1' , '4' , '2' , '8' , '6']]\n",
        "                )\n",
        "\n",
        "\n",
        "\n",
        "print_matrix(floor)\n",
        "print('Walking Sequence:')\n",
        "walk_zigzag(floor)\n",
        "#This should print\n",
        "# 3 9 1\n",
        "# 1 2\n",
        "# 4 7 2\n",
        "# 4 9\n",
        "# 1 8 6\n",
        "print('################')\n",
        "floor = np.array([[ '3' , '8' , '4' , '6' , '1'],\n",
        "                  ['7' , '2' , '1' , '9' , '3'],\n",
        "                  ['9' , '0' , '7' , '5' , '8'],\n",
        "                  ['2' , '1' , '3' , '4' , '0']]\n",
        "                )\n",
        "\n",
        "print_matrix(floor)\n",
        "print('Walking Sequence:')\n",
        "walk_zigzag(floor)\n",
        "#This should print\n",
        "# 3 9\n",
        "# 1 2\n",
        "# 4 7\n",
        "# 4 9\n",
        "# 1 8"
      ]
    },
    {
      "cell_type": "code",
      "source": [
        "import numpy as np\n",
        "depth=2\n",
        "district = np.array([\n",
        "                 [2,3,4,1],\n",
        "                 [3,4,6,5],\n",
        "                 [2,1,4,7]\n",
        "                ])\n",
        "district_row, district_col = district.shape\n",
        "    #TO DO\n",
        "arr=np.zeros((district_row+(depth*2),district_col+(depth*2)),dtype=int)\n",
        "row,col=arr.shape\n",
        "\n",
        "for i in range (row):\n",
        "  for j in range (col):\n",
        "    arr[i][j]=8\n",
        "\n",
        "\n",
        "for i in range (district_row):\n",
        "  for j in range (district_col):\n",
        "     arr[i+depth][j+depth]=district[i][j]\n",
        "\n",
        "print(arr)"
      ],
      "metadata": {
        "colab": {
          "base_uri": "https://localhost:8080/"
        },
        "id": "TK3EOUdjSh9q",
        "outputId": "87c403f9-6a1c-4204-e703-3b75dd01f441"
      },
      "execution_count": null,
      "outputs": [
        {
          "output_type": "stream",
          "name": "stdout",
          "text": [
            "[[8 8 8 8 8 8 8 8]\n",
            " [8 8 8 8 8 8 8 8]\n",
            " [8 8 2 3 4 1 8 8]\n",
            " [8 8 3 4 6 5 8 8]\n",
            " [8 8 2 1 4 7 8 8]\n",
            " [8 8 8 8 8 8 8 8]\n",
            " [8 8 8 8 8 8 8 8]]\n"
          ]
        }
      ]
    },
    {
      "cell_type": "code",
      "source": [
        "def find_subarray_with_sum(arr, target_sum):\n",
        "    current_sum = 0\n",
        "    start, end = 0, 0\n",
        "\n",
        "    for end in range(len(arr)):\n",
        "        current_sum += arr[end]\n",
        "\n",
        "        while current_sum > target_sum:\n",
        "            current_sum -= arr[start]\n",
        "            start += 1\n",
        "\n",
        "        if current_sum == target_sum:\n",
        "            return start + 1, end + 1  # Adding 1 to convert 0-based indexing to 1-based indexing\n",
        "\n",
        "    return -1  # If no subarray is found\n",
        "\n",
        "# Example 1\n",
        "arr1 = [1, 2, 3, 7, 5]\n",
        "target_sum1 = 12\n",
        "result1 = find_subarray_with_sum(arr1, target_sum1)\n",
        "print(\"Example 1:\", result1)  # Output: (2, 4)\n",
        "\n",
        "# Example 2\n",
        "arr2 = [1, 2, 3, 4, 5, 6, 7, 8, 9, 10]\n",
        "target_sum2 = 15\n",
        "result2 = find_subarray_with_sum(arr2, target_sum2)\n",
        "print(\"Example 2:\", result2)  # Output: (1, 5)"
      ],
      "metadata": {
        "id": "Yge6CU2U_pTV",
        "colab": {
          "base_uri": "https://localhost:8080/"
        },
        "outputId": "f204d432-78b0-444b-d268-4bce8fd35735"
      },
      "execution_count": null,
      "outputs": [
        {
          "output_type": "stream",
          "name": "stdout",
          "text": [
            "Example 1: (2, 4)\n",
            "Example 2: (1, 5)\n"
          ]
        }
      ]
    },
    {
      "cell_type": "code",
      "source": [
        "a=[10,30,50,70,90]\n",
        "b=[100,80,60,40,20]\n",
        "\n",
        "n=(len(a)+len(b))\n",
        "new=[0]*n\n",
        "for i in range (len(a)):\n",
        "  new[i]=a[i]\n",
        "for j in range(len(b)):\n",
        "  new[len(a)+j]=b[j]\n",
        "print(new)\n",
        "\n",
        "for i in range (len(new)):\n",
        "  for j in range (i+1,len(new),1):\n",
        "    if new[i]>new[j]:\n",
        "      new[i]=new[j]\n",
        "\n",
        "print(new)\n"
      ],
      "metadata": {
        "id": "xDLtnGrQ_p-X",
        "colab": {
          "base_uri": "https://localhost:8080/",
          "height": 245
        },
        "outputId": "6cacb3c1-b745-49f3-b287-5250dd7fe624"
      },
      "execution_count": null,
      "outputs": [
        {
          "output_type": "stream",
          "name": "stdout",
          "text": [
            "[10, 30, 50, 70, 90, 100, 80, 60, 40, 20]\n"
          ]
        },
        {
          "output_type": "error",
          "ename": "IndexError",
          "evalue": "ignored",
          "traceback": [
            "\u001b[0;31m---------------------------------------------------------------------------\u001b[0m",
            "\u001b[0;31mIndexError\u001b[0m                                Traceback (most recent call last)",
            "\u001b[0;32m<ipython-input-41-34ded3ce388a>\u001b[0m in \u001b[0;36m<cell line: 12>\u001b[0;34m()\u001b[0m\n\u001b[1;32m     15\u001b[0m       \u001b[0mnew\u001b[0m\u001b[0;34m[\u001b[0m\u001b[0mi\u001b[0m\u001b[0;34m]\u001b[0m\u001b[0;34m=\u001b[0m\u001b[0mnew\u001b[0m\u001b[0;34m[\u001b[0m\u001b[0mj\u001b[0m\u001b[0;34m]\u001b[0m\u001b[0;34m\u001b[0m\u001b[0;34m\u001b[0m\u001b[0m\n\u001b[1;32m     16\u001b[0m     \u001b[0;32melse\u001b[0m\u001b[0;34m:\u001b[0m\u001b[0;34m\u001b[0m\u001b[0;34m\u001b[0m\u001b[0m\n\u001b[0;32m---> 17\u001b[0;31m        \u001b[0mnew\u001b[0m\u001b[0;34m[\u001b[0m\u001b[0mi\u001b[0m\u001b[0;34m]\u001b[0m\u001b[0;34m=\u001b[0m\u001b[0mnew\u001b[0m\u001b[0;34m[\u001b[0m\u001b[0mj\u001b[0m\u001b[0;34m+\u001b[0m\u001b[0;36m1\u001b[0m\u001b[0;34m]\u001b[0m\u001b[0;34m\u001b[0m\u001b[0;34m\u001b[0m\u001b[0m\n\u001b[0m\u001b[1;32m     18\u001b[0m \u001b[0mprint\u001b[0m\u001b[0;34m(\u001b[0m\u001b[0mnew\u001b[0m\u001b[0;34m)\u001b[0m\u001b[0;34m\u001b[0m\u001b[0;34m\u001b[0m\u001b[0m\n",
            "\u001b[0;31mIndexError\u001b[0m: list index out of range"
          ]
        }
      ]
    },
    {
      "cell_type": "code",
      "source": [
        "print(6**3)"
      ],
      "metadata": {
        "colab": {
          "base_uri": "https://localhost:8080/"
        },
        "id": "m97aH3vu2oZ5",
        "outputId": "abf1510c-9eb3-4081-f078-d2a87c32bcbf"
      },
      "execution_count": null,
      "outputs": [
        {
          "output_type": "stream",
          "name": "stdout",
          "text": [
            "216\n"
          ]
        }
      ]
    }
  ]
}